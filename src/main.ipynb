{
 "cells": [
  {
   "cell_type": "code",
   "execution_count": null,
   "metadata": {},
   "outputs": [],
   "source": [
    "import json\n",
    "import networkx as nx\n",
    "import matplotlib.pyplot as plt\n",
    "import math"
   ]
  },
  {
   "cell_type": "code",
   "execution_count": null,
   "metadata": {},
   "outputs": [],
   "source": [
    "# Función para construir el grafo a partir de los datos proporcionados\n",
    "def construir_grafo(data):\n",
    "    G = nx.DiGraph()\n",
    "    for viaje_id, viaje_data in data[\"services\"].items():\n",
    "        nodo1_time = viaje_data[\"stops\"][0][\"time\"]\n",
    "        nodo1_station = viaje_data[\"stops\"][0][\"station\"]\n",
    "        nodo2_time = viaje_data[\"stops\"][1][\"time\"]\n",
    "        nodo2_station = viaje_data[\"stops\"][1][\"station\"]\n",
    "        nodo1_type = viaje_data[\"stops\"][0][\"type\"]\n",
    "        nodo2_type = viaje_data[\"stops\"][1][\"type\"]\n",
    "        max_capacidad = data[\"rs_info\"][\"max_rs\"]\n",
    "\n",
    "        demanda = math.ceil(viaje_data[\"demand\"][0]/100)\n",
    "\n",
    "        if nodo1_type == \"A\":\n",
    "            # Agregar nodos con demanda positiva o negativa según el tipo de estación\n",
    "            G.add_node(f\"{nodo1_time}_{nodo1_station}_{nodo1_type}\", time=nodo1_time, station=nodo1_station, type=nodo1_type, demanda=-demanda)\n",
    "            G.add_node(f\"{nodo2_time}_{nodo2_station}_{nodo2_type}\", time=nodo2_time, station=nodo2_station, type=nodo2_type, demanda=demanda)\n",
    "        else:\n",
    "            G.add_node(f\"{nodo1_time}_{nodo1_station}_{nodo1_type}\", time=nodo1_time, station=nodo1_station, type=nodo1_type, demanda=demanda)\n",
    "            G.add_node(f\"{nodo2_time}_{nodo2_station}_{nodo2_type}\", time=nodo2_time, station=nodo2_station, type=nodo2_type, demanda=-demanda)\n",
    "\n",
    "        if nodo1_type == \"D\" and nodo2_type == \"A\":\n",
    "            # Agregar aristas con capacidad y costo\n",
    "            G.add_edge(f\"{nodo1_time}_{nodo1_station}_{nodo1_type}\", f\"{nodo2_time}_{nodo2_station}_{nodo2_type}\", tipo=\"tren\", capacidad=max_capacidad - demanda, costo=0)\n",
    "        elif nodo1_type == \"A\" and nodo2_type == \"D\":\n",
    "            G.add_edge(f\"{nodo2_time}_{nodo2_station}_{nodo2_type}\", f\"{nodo1_time}_{nodo1_station}_{nodo1_type}\", tipo=\"tren\", capacidad=max_capacidad - demanda, costo=0)\n",
    "\n",
    "    estaciones_nodos = {}\n",
    "    for nodo in G.nodes:\n",
    "        estacion = G.nodes[nodo][\"station\"]\n",
    "        if estacion not in estaciones_nodos:\n",
    "            estaciones_nodos[estacion] = []\n",
    "        estaciones_nodos[estacion].append(nodo)\n",
    "\n",
    "    for estacion, nodos in estaciones_nodos.items():\n",
    "        nodos_ordenados = sorted(nodos, key=lambda nodo: G.nodes[nodo][\"time\"])\n",
    "\n",
    "        for i in range(len(nodos_ordenados) - 1):\n",
    "            G.add_edge(nodos_ordenados[i], nodos_ordenados[i + 1], tipo=\"traspaso\", capacidad=float(\"inf\"), costo=0)\n",
    "        G.add_edge(nodos_ordenados[-1], nodos_ordenados[0], tipo=\"trasnoche\", capacidad=float(\"inf\"), costo=1)\n",
    "\n",
    "    return G"
   ]
  }
 ],
 "metadata": {
  "kernelspec": {
   "display_name": "Python 3.11.2 64-bit",
   "language": "python",
   "name": "python3"
  },
  "language_info": {
   "name": "python",
   "version": "3.11.2"
  },
  "orig_nbformat": 4,
  "vscode": {
   "interpreter": {
    "hash": "aee8b7b246df8f9039afb4144a1f6fd8d2ca17a180786b69acc140d282b71a49"
   }
  }
 },
 "nbformat": 4,
 "nbformat_minor": 2
}
